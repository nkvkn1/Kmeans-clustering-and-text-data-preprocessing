{
 "cells": [
  {
   "cell_type": "markdown",
   "metadata": {},
   "source": [
    "## Importing Necessary Libraries"
   ]
  },
  {
   "cell_type": "code",
   "execution_count": 1,
   "metadata": {
    "id": "1xUSW2XKnv-L",
    "scrolled": true
   },
   "outputs": [],
   "source": [
    "import numpy  as np\n",
    "import pandas as pd\n",
    "from nltk.tokenize import word_tokenize\n",
    "import nltk.corpus\n",
    "import re\n",
    "from nltk import SnowballStemmer\n",
    "from unidecode  import unidecode\n",
    "from sklearn.feature_extraction.text  import TfidfVectorizer\n",
    "import seaborn as sns\n",
    "import warnings\n",
    "warnings.simplefilter(\"ignore\")\n",
    "import matplotlib.pyplot as plt\n",
    "from sklearn import cluster\n",
    "from sklearn.model_selection import train_test_split"
   ]
  },
  {
   "cell_type": "markdown",
   "metadata": {},
   "source": [
    "## Importing the dataset"
   ]
  },
  {
   "cell_type": "code",
   "execution_count": 2,
   "metadata": {
    "colab": {
     "base_uri": "https://localhost:8080/",
     "height": 206
    },
    "id": "T5SU6N4Zn09_",
    "outputId": "c55e1a22-e250-46ef-ab6b-4dc4d4231cc6"
   },
   "outputs": [
    {
     "data": {
      "text/html": [
       "<div>\n",
       "<style scoped>\n",
       "    .dataframe tbody tr th:only-of-type {\n",
       "        vertical-align: middle;\n",
       "    }\n",
       "\n",
       "    .dataframe tbody tr th {\n",
       "        vertical-align: top;\n",
       "    }\n",
       "\n",
       "    .dataframe thead th {\n",
       "        text-align: right;\n",
       "    }\n",
       "</style>\n",
       "<table border=\"1\" class=\"dataframe\">\n",
       "  <thead>\n",
       "    <tr style=\"text-align: right;\">\n",
       "      <th></th>\n",
       "      <th>col</th>\n",
       "    </tr>\n",
       "  </thead>\n",
       "  <tbody>\n",
       "    <tr>\n",
       "      <th>0.0</th>\n",
       "      <td>CHINA SWITCHES U . S . WHEAT TO 1987 / 88 FROM...</td>\n",
       "    </tr>\n",
       "    <tr>\n",
       "      <th>1.0</th>\n",
       "      <td>FRANCE WILL FIGHT EC FARM PROPOSALS - MINISTER...</td>\n",
       "    </tr>\n",
       "    <tr>\n",
       "      <th>2.0</th>\n",
       "      <td>FERRUZZI PARIS UNIT SEEN ABSORBING CPC PURCHAS...</td>\n",
       "    </tr>\n",
       "    <tr>\n",
       "      <th>3.0</th>\n",
       "      <td>NO GRAIN SHIPMENTS TO THE USSR -- USDA There w...</td>\n",
       "    </tr>\n",
       "    <tr>\n",
       "      <th>4.0</th>\n",
       "      <td>USDA COMMENTS ON EXPORT SALES REPORT Corn sale...</td>\n",
       "    </tr>\n",
       "  </tbody>\n",
       "</table>\n",
       "</div>"
      ],
      "text/plain": [
       "                                                   col\n",
       "0.0  CHINA SWITCHES U . S . WHEAT TO 1987 / 88 FROM...\n",
       "1.0  FRANCE WILL FIGHT EC FARM PROPOSALS - MINISTER...\n",
       "2.0  FERRUZZI PARIS UNIT SEEN ABSORBING CPC PURCHAS...\n",
       "3.0  NO GRAIN SHIPMENTS TO THE USSR -- USDA There w...\n",
       "4.0  USDA COMMENTS ON EXPORT SALES REPORT Corn sale..."
      ]
     },
     "execution_count": 2,
     "metadata": {},
     "output_type": "execute_result"
    }
   ],
   "source": [
    "data=pd.read_csv(\"text data.csv\",index_col=0)\n",
    "data.head()"
   ]
  },
  {
   "cell_type": "markdown",
   "metadata": {},
   "source": [
    "## Getting knowledge about the data"
   ]
  },
  {
   "cell_type": "code",
   "execution_count": 3,
   "metadata": {
    "colab": {
     "base_uri": "https://localhost:8080/"
    },
    "id": "f_QmW5MQoCF0",
    "outputId": "cc74686c-1249-4fc7-ac55-102646c8e989"
   },
   "outputs": [
    {
     "data": {
      "text/plain": [
       "(638, 1)"
      ]
     },
     "execution_count": 3,
     "metadata": {},
     "output_type": "execute_result"
    }
   ],
   "source": [
    "data.shape"
   ]
  },
  {
   "cell_type": "markdown",
   "metadata": {
    "id": "4FF-rIker36g"
   },
   "source": [
    "  1. We have one null value in our dataset. we have to drop the row"
   ]
  },
  {
   "cell_type": "code",
   "execution_count": 4,
   "metadata": {
    "colab": {
     "base_uri": "https://localhost:8080/"
    },
    "id": "eQofmAhbrwVP",
    "outputId": "775db965-d9df-4d42-9102-af6dc4e53e20"
   },
   "outputs": [
    {
     "data": {
      "text/plain": [
       "col    1\n",
       "dtype: int64"
      ]
     },
     "execution_count": 4,
     "metadata": {},
     "output_type": "execute_result"
    }
   ],
   "source": [
    "data.isnull().sum()"
   ]
  },
  {
   "cell_type": "markdown",
   "metadata": {
    "id": "4U1j0jbZoEGl"
   },
   "source": [
    "The dataset contains 638 rows and 1 column"
   ]
  },
  {
   "cell_type": "code",
   "execution_count": 5,
   "metadata": {
    "id": "BS9Tmv_nsCjR"
   },
   "outputs": [],
   "source": [
    "data.dropna(inplace=True)"
   ]
  },
  {
   "cell_type": "markdown",
   "metadata": {
    "id": "rzOSWL15sHx_"
   },
   "source": [
    "After Null value Removal"
   ]
  },
  {
   "cell_type": "code",
   "execution_count": 6,
   "metadata": {
    "colab": {
     "base_uri": "https://localhost:8080/"
    },
    "id": "au5AtTlAsBG5",
    "outputId": "ca9c5ac5-65da-4925-e4ea-f7c153cb7a97"
   },
   "outputs": [
    {
     "data": {
      "text/plain": [
       "col    0\n",
       "dtype: int64"
      ]
     },
     "execution_count": 6,
     "metadata": {},
     "output_type": "execute_result"
    }
   ],
   "source": [
    "data.isnull().sum()"
   ]
  },
  {
   "cell_type": "markdown",
   "metadata": {},
   "source": [
    "## Pre processing"
   ]
  },
  {
   "cell_type": "code",
   "execution_count": 7,
   "metadata": {
    "id": "-LKPClz2o0zL"
   },
   "outputs": [],
   "source": [
    "#CORPUS PROCESSING\n",
    "# removes a list of words from a tokenized list.\n",
    "def removeWords(listOfTokens, listOfWords):\n",
    "    return [token for token in listOfTokens if token not in listOfWords]\n",
    "\n",
    "# Text normalization by using stemming to a list of tokenized words\n",
    "def applyStemming(listOfTokens, stemmer):\n",
    "    return [stemmer.stem(token) for token in listOfTokens]\n",
    "\n",
    "# removes any words composed of less than 2 or more than 21 letters\n",
    "def twoLetters(listOfTokens):\n",
    "    twoLetterWord = []\n",
    "    for token in listOfTokens:\n",
    "        if len(token) <= 2 or len(token) >= 21:\n",
    "            twoLetterWord.append(token)\n",
    "    return twoLetterWord"
   ]
  },
  {
   "cell_type": "code",
   "execution_count": 8,
   "metadata": {
    "id": "VM_73ta9o8U1"
   },
   "outputs": [],
   "source": [
    "def processCorpus(corpus, language):   \n",
    "    stopwords = nltk.corpus.stopwords.words(language)\n",
    "    # print(stopwords)\n",
    "    param_stemmer = SnowballStemmer(language)\n",
    "    # print(param_stemmer)\n",
    "    for index,row in enumerate(corpus):\n",
    "      # print(row,index,sep=\"\\n\")\n",
    "       # Removes commas\n",
    "      # print(index)\n",
    "      corpus[index] = corpus[index].replace(',', ' ')\n",
    "       # Removes line breaks         \n",
    "      corpus[index] = corpus[index].rstrip('\\n')             \n",
    "      # Makes all letters lowercase\n",
    "      corpus[index] = corpus[index].casefold()\n",
    "\n",
    "      # removes specials characters and leaves only words\n",
    "      corpus[index] = re.sub('\\W_',' ', corpus[index])        \n",
    "      # removes emails and mentions (words with @)\n",
    "      corpus[index] = re.sub(\"\\S*@\\S*\\s?\",\" \", corpus[index]) \n",
    "      # removes URLs with http\n",
    "      corpus[index] = re.sub(r'http\\S+', '', corpus[index]) \n",
    "      # removes URLs with www  \n",
    "      corpus[index] = re.sub(r'www\\S+', '', corpus[index])    \n",
    "\n",
    "\n",
    "      listOfTokens = word_tokenize(corpus[index])\n",
    "      twoLetterWord = twoLetters(listOfTokens)\n",
    "\n",
    "      listOfTokens = removeWords(listOfTokens, stopwords)\n",
    "      listOfTokens = removeWords(listOfTokens, twoLetterWord)\n",
    "\n",
    "      \n",
    "      listOfTokens = applyStemming(listOfTokens, param_stemmer)\n",
    "\n",
    "      corpus[index]   = \" \".join(listOfTokens)\n",
    "      corpus[index] = unidecode(corpus[index])\n",
    "\n",
    "      # break\n",
    "    return corpus"
   ]
  },
  {
   "cell_type": "code",
   "execution_count": 9,
   "metadata": {
    "id": "a61EfeJ1o9nl"
   },
   "outputs": [],
   "source": [
    "data_list=data[\"col\"].to_list()\n",
    "corpus = processCorpus(data_list, \"english\")"
   ]
  },
  {
   "cell_type": "code",
   "execution_count": 10,
   "metadata": {
    "colab": {
     "base_uri": "https://localhost:8080/",
     "height": 87
    },
    "id": "JcbUrhAKrnVL",
    "outputId": "b70576ad-b00b-4151-d492-b78b2c356aa1"
   },
   "outputs": [
    {
     "data": {
      "text/plain": [
       "'ccc accept bid bonus wheat algeria usda commod credit corpor ccc accept bid export bonus 000 tonn durum wheat algeria agricultur depart said depart said bonus award averag dlrs per tonn paid export form commod ccc inventori bonus made cam usa inc depart said wheat shipment may 1987 addit 264 000 tonn durum wheat still avaiabl algeria export enhanc program initi announc march'"
      ]
     },
     "execution_count": 10,
     "metadata": {},
     "output_type": "execute_result"
    }
   ],
   "source": [
    "corpus[10]"
   ]
  },
  {
   "cell_type": "markdown",
   "metadata": {
    "id": "urEE0e5asX5e"
   },
   "source": [
    "#### Observation\n",
    "  1. We removed all nan values.\n",
    "  2. replaced , with space\n",
    "  3. new lines are removed(\\n)\n",
    "  4. upper cases converted to lower cases.\n",
    "  5. special characters are removed\n",
    "  6. mail id's are remvoved\n",
    "  7. URL's, http letter are removed from the text"
   ]
  },
  {
   "cell_type": "markdown",
   "metadata": {
    "id": "CmvpNG3mtOK8"
   },
   "source": [
    "### Statistical Weighing of Words\n",
    "  1. Now we will apply the TF-IDF function, short for term frequency inverse document frequency, which is a numerical statistic that's intended to reflect how important a word is to a document in a corpus by giving each word in a document a score that ranges from 0 to 1."
   ]
  },
  {
   "cell_type": "code",
   "execution_count": 11,
   "metadata": {
    "colab": {
     "base_uri": "https://localhost:8080/",
     "height": 334
    },
    "id": "l4mZfAswtDE-",
    "outputId": "2b7cf3e6-4b4f-400c-e28f-21c478118e9c"
   },
   "outputs": [
    {
     "name": "stdout",
     "output_type": "stream",
     "text": [
      "637 rows\n",
      "------------------------top 5 words------------------------------\n"
     ]
    },
    {
     "data": {
      "text/plain": [
       "season    0.478544\n",
       "china     0.310371\n",
       "switch    0.283070\n",
       "total     0.235751\n",
       "1987      0.228456\n",
       "Name: 0, dtype: float64"
      ]
     },
     "execution_count": 11,
     "metadata": {},
     "output_type": "execute_result"
    }
   ],
   "source": [
    "vectorizer = TfidfVectorizer()                       #Defining the vectorizer \n",
    "\n",
    "# Passing Our Text as Input\n",
    "X = vectorizer.fit_transform(corpus)\n",
    "tf_idf = pd.DataFrame(data = X.toarray(), columns=vectorizer.get_feature_names())\n",
    "\n",
    "final_df = tf_idf\n",
    "\n",
    "print(\"{} rows\".format(final_df.shape[0]))\n",
    "print(f\"------------------------top 5 words------------------------------\")\n",
    "top_five_Df=final_df.T.nlargest(5, 0)\n",
    "top_five_Df[0]"
   ]
  },
  {
   "cell_type": "code",
   "execution_count": 12,
   "metadata": {
    "colab": {
     "base_uri": "https://localhost:8080/",
     "height": 508
    },
    "id": "7GAmr61LtySJ",
    "outputId": "a588c6d5-b614-48ea-be5a-1911744e2522"
   },
   "outputs": [
    {
     "data": {
      "image/png": "[encoded data removed]",
      "text/plain": [
       "<Figure size 720x720 with 1 Axes>"
      ]
     },
     "metadata": {},
     "output_type": "display_data"
    }
   ],
   "source": [
    "#Plotting a pie chart to visualize the percentage of top 5 words(amongst top 5 words)\n",
    "plt.figure(figsize=(10,10))\n",
    "palette_color = sns.color_palette('bright')\n",
    "plt.pie(top_five_Df[0],labels=top_five_Df.index, colors=palette_color, autopct='%.0f%%')\n",
    "plt.show()"
   ]
  },
  {
   "cell_type": "markdown",
   "metadata": {
    "id": "2O9_jPS9yX5s"
   },
   "source": [
    "### Splitting Data"
   ]
  },
  {
   "cell_type": "code",
   "execution_count": 13,
   "metadata": {
    "id": "Wykbjzg0ycW3"
   },
   "outputs": [],
   "source": [
    "#using train test split to split the training data\n",
    "X_train, X_test = train_test_split(final_df, test_size=0.20, random_state=42)"
   ]
  },
  {
   "cell_type": "code",
   "execution_count": 14,
   "metadata": {
    "colab": {
     "base_uri": "https://localhost:8080/"
    },
    "id": "ekp6sk_Wyuey",
    "outputId": "4b5244b5-800d-41fb-be79-3ab4ec1f964d"
   },
   "outputs": [
    {
     "name": "stdout",
     "output_type": "stream",
     "text": [
      "Training Data shape:\t(509, 4861)\n",
      " Testing Data Shape:\t(128, 4861)\n"
     ]
    }
   ],
   "source": [
    "#checking the shape of the test and train data\n",
    "print(f\"Training Data shape:\\t{X_train.shape}\\n Testing Data Shape:\\t{X_test.shape}\")"
   ]
  },
  {
   "cell_type": "markdown",
   "metadata": {
    "id": "Ngr487yIvRda"
   },
   "source": [
    "### K-Means\n",
    "  1. Defining a function that runs the K-Means algorithm max_k times and returns a dictionary of each k result"
   ]
  },
  {
   "cell_type": "code",
   "execution_count": 15,
   "metadata": {
    "id": "QX45EoaLvU4n"
   },
   "outputs": [],
   "source": [
    "def KMeans(max_k, data):\n",
    "    max_k += 1\n",
    "    kmeans_results = dict()\n",
    "    for k in range(2 , max_k):\n",
    "        kmeans = cluster.KMeans(n_clusters = k)\n",
    "\n",
    "        kmeans_results.update( {k : kmeans.fit(data)} )\n",
    "        \n",
    "    return kmeans_results"
   ]
  },
  {
   "cell_type": "markdown",
   "metadata": {
    "id": "aEG4ug4xy_p1"
   },
   "source": [
    "##### K value\n",
    "  1. We are going to run the algorithm for different k values.\n",
    "  2. K(n_clusters) values vary from 2 to 10"
   ]
  },
  {
   "cell_type": "code",
   "execution_count": 16,
   "metadata": {
    "id": "Wbr1uxZ0xLF9"
   },
   "outputs": [],
   "source": [
    "k = 10\n",
    "kmeans_results = KMeans(k, X_train)"
   ]
  },
  {
   "cell_type": "code",
   "execution_count": 17,
   "metadata": {
    "colab": {
     "base_uri": "https://localhost:8080/"
    },
    "id": "gcKw9LDvzV1r",
    "outputId": "2dc8f1d9-7dc1-4979-a9d8-52148eb031ef"
   },
   "outputs": [
    {
     "name": "stdout",
     "output_type": "stream",
     "text": [
      " The Result:\n",
      "{2: KMeans(n_clusters=2), 3: KMeans(n_clusters=3), 4: KMeans(n_clusters=4), 5: KMeans(n_clusters=5), 6: KMeans(n_clusters=6), 7: KMeans(n_clusters=7), 8: KMeans(), 9: KMeans(n_clusters=9), 10: KMeans(n_clusters=10)}\n"
     ]
    }
   ],
   "source": [
    "#printing the results for different values of K\n",
    "print(f\" The Result:\\n{kmeans_results}\")"
   ]
  },
  {
   "cell_type": "code",
   "execution_count": 18,
   "metadata": {
    "colab": {
     "base_uri": "https://localhost:8080/",
     "height": 386
    },
    "id": "wApkNnxRzjQ4",
    "outputId": "d406c6ca-10c5-49e1-9723-c14741828161"
   },
   "outputs": [
    {
     "name": "stdout",
     "output_type": "stream",
     "text": [
      "Cluster Size:[Score, Distance]\n",
      "{2: [-118.49496692619982, 468.4267709544773], 3: [-117.0542595965184, 461.4251934109025], 4: [-116.29070672287537, 455.5723557204028], 5: [-115.00853868559383, 451.34318957880765], 6: [-114.31674790028238, 446.80585802685147], 7: [-114.30047474303456, 443.6870447680085], 8: [-112.60679919020808, 438.94513509527917], 9: [-112.79517114855366, 434.73484713170814], 10: [-113.36689929699824, 432.7837800557811]}\n"
     ]
    },
    {
     "data": {
      "text/html": [
       "<div>\n",
       "<style scoped>\n",
       "    .dataframe tbody tr th:only-of-type {\n",
       "        vertical-align: middle;\n",
       "    }\n",
       "\n",
       "    .dataframe tbody tr th {\n",
       "        vertical-align: top;\n",
       "    }\n",
       "\n",
       "    .dataframe thead th {\n",
       "        text-align: right;\n",
       "    }\n",
       "</style>\n",
       "<table border=\"1\" class=\"dataframe\">\n",
       "  <thead>\n",
       "    <tr style=\"text-align: right;\">\n",
       "      <th></th>\n",
       "      <th>Number of Clusters</th>\n",
       "      <th>Distance</th>\n",
       "    </tr>\n",
       "  </thead>\n",
       "  <tbody>\n",
       "    <tr>\n",
       "      <th>0</th>\n",
       "      <td>2</td>\n",
       "      <td>468.426771</td>\n",
       "    </tr>\n",
       "    <tr>\n",
       "      <th>1</th>\n",
       "      <td>3</td>\n",
       "      <td>461.425193</td>\n",
       "    </tr>\n",
       "    <tr>\n",
       "      <th>2</th>\n",
       "      <td>4</td>\n",
       "      <td>455.572356</td>\n",
       "    </tr>\n",
       "    <tr>\n",
       "      <th>3</th>\n",
       "      <td>5</td>\n",
       "      <td>451.343190</td>\n",
       "    </tr>\n",
       "    <tr>\n",
       "      <th>4</th>\n",
       "      <td>6</td>\n",
       "      <td>446.805858</td>\n",
       "    </tr>\n",
       "    <tr>\n",
       "      <th>5</th>\n",
       "      <td>7</td>\n",
       "      <td>443.687045</td>\n",
       "    </tr>\n",
       "    <tr>\n",
       "      <th>6</th>\n",
       "      <td>8</td>\n",
       "      <td>438.945135</td>\n",
       "    </tr>\n",
       "    <tr>\n",
       "      <th>7</th>\n",
       "      <td>9</td>\n",
       "      <td>434.734847</td>\n",
       "    </tr>\n",
       "    <tr>\n",
       "      <th>8</th>\n",
       "      <td>10</td>\n",
       "      <td>432.783780</td>\n",
       "    </tr>\n",
       "  </tbody>\n",
       "</table>\n",
       "</div>"
      ],
      "text/plain": [
       "   Number of Clusters    Distance\n",
       "0                   2  468.426771\n",
       "1                   3  461.425193\n",
       "2                   4  455.572356\n",
       "3                   5  451.343190\n",
       "4                   6  446.805858\n",
       "5                   7  443.687045\n",
       "6                   8  438.945135\n",
       "7                   9  434.734847\n",
       "8                  10  432.783780"
      ]
     },
     "execution_count": 18,
     "metadata": {},
     "output_type": "execute_result"
    }
   ],
   "source": [
    "#checking the score and distance for different cluster sizes\n",
    "\n",
    "Result={}\n",
    "df=[]\n",
    "for key,value in kmeans_results.items():\n",
    "  score=value.score(X_test)\n",
    "  distance=value.inertia_\n",
    "  Result[key]=[score,distance]\n",
    "  df.append([key,distance])\n",
    "distance_df=pd.DataFrame(df,columns=[\"Number of Clusters\",\"Distance\"])\n",
    "print(f\"Cluster Size:[Score, Distance]\\n{Result}\")\n",
    "distance_df"
   ]
  },
  {
   "cell_type": "code",
   "execution_count": 19,
   "metadata": {
    "colab": {
     "base_uri": "https://localhost:8080/",
     "height": 300
    },
    "id": "tJCSgphO2Jyz",
    "outputId": "75858273-db11-4dd5-fe94-25eb9b708e4b"
   },
   "outputs": [
    {
     "data": {
      "text/plain": [
       "<Figure size 864x720 with 0 Axes>"
      ]
     },
     "metadata": {},
     "output_type": "display_data"
    },
    {
     "data": {
      "image/png": "[encoded data removed]",
      "text/plain": [
       "<Figure size 432x288 with 1 Axes>"
      ]
     },
     "metadata": {
      "needs_background": "light"
     },
     "output_type": "display_data"
    }
   ],
   "source": [
    "#Plotting squared distance against number of clusters\n",
    "plt.figure(figsize=(12,10))\n",
    "distance_df.set_index(\"Number of Clusters\").plot()\n",
    "plt.ylabel(\"Distance (Squared) to cluster center\")\n",
    "plt.show()"
   ]
  },
  {
   "cell_type": "markdown",
   "metadata": {
    "id": "aq-PztyZ3EUa"
   },
   "source": [
    "#### Observation:\n",
    "  1. When the cluster size increases, the error is getting reduce.\n",
    "  2. The K value 10, seperates the data well. But if we have less data and splitting into more clusters lead to poor performance.\n",
    "  3. There is no particular elbow that can be observed here in the graph. According to these values, 9 seems to be a good number of clusters.\n",
    "  4. We tried to increase the number of clusters which resulted in extended training times which is not desired."
   ]
  }
 ],
 "metadata": {
  "colab": {
   "name": "Text_Mining.ipynb",
   "provenance": []
  },
  "kernelspec": {
   "display_name": "Python 3 (ipykernel)",
   "language": "python",
   "name": "python3"
  },
  "language_info": {
   "codemirror_mode": {
    "name": "ipython",
    "version": 3
   },
   "file_extension": ".py",
   "mimetype": "text/x-python",
   "name": "python",
   "nbconvert_exporter": "python",
   "pygments_lexer": "ipython3",
   "version": "3.9.12"
  }
 },
 "nbformat": 4,
 "nbformat_minor": 1
}
